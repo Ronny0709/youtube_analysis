{
 "cells": [
  {
   "cell_type": "markdown",
   "metadata": {},
   "source": [
    "<center>\n",
    "<span style=\"font-size: 36px;\">Youtube Keywords & Analysis</span>\n",
    "</center>"
   ]
  },
  {
   "cell_type": "markdown",
   "metadata": {},
   "source": [
    "<center>\n",
    "<span style=\"font-size: 26px;\">Tools</span>\n",
    "</center>"
   ]
  },
  {
   "cell_type": "code",
   "execution_count": null,
   "metadata": {},
   "outputs": [],
   "source": [
    "import pandas as pd\n",
    "import re\n",
    "import ast\n",
    "import statistics as st\n",
    "from collections import Counter, defaultdict"
   ]
  },
  {
   "cell_type": "markdown",
   "metadata": {},
   "source": [
    "<center>\n",
    "<span style=\"font-size: 26px;\">Function for data cleansing</span>\n",
    "</center>"
   ]
  },
  {
   "cell_type": "code",
   "execution_count": null,
   "metadata": {},
   "outputs": [],
   "source": [
    "\n",
    "def load_and_clean_csv(path):\n",
    "    df = pd.read_csv(path)\n",
    "    df_sorted = df.sort_values(by='Date', ascending=False)\n",
    "    return df_sorted.drop_duplicates(subset='Video ID', keep='first').reset_index(drop=True)\n",
    "\n",
    "\n",
    "# 데이터 클렌징 함수 정의\n",
    "def clean_data(df):\n",
    "    df = df.copy()  # Copy to avoid SettingWithCopyWarning\n",
    "    df['Channel Keywords'] = df['Channel Keywords'].fillna('').str.replace(r\"[\\[\\]'#]\", '', regex=True)\n",
    "    df['Date'] = pd.to_datetime(df['Date'])\n",
    "    df['Uploaded Date'] = pd.to_datetime(df['Uploaded Date'])\n",
    "    df['Trend Date'] = ((df['Date'] - df['Uploaded Date']).dt.days).replace(0, 1)\n",
    "    df['Tags'] = df['Tags'].str.replace(r\"[^\\w,\\s]\", '', regex=True).str.lower().fillna('')\n",
    "    df = df[df['Channel Title'] != \"MrBeast\"]  \n",
    "    return df\n",
    "\n",
    "# Outlier removal\n",
    "def remove_outliers(df, column):\n",
    "    Q1 = df[column].quantile(0.25)\n",
    "    Q3 = df[column].quantile(0.75)\n",
    "    IQR = Q3 - Q1\n",
    "    lower_bound = Q1 - 1.5 * IQR\n",
    "    upper_bound = Q3 + 1.5 * IQR\n",
    "    return df[(df[column] >= lower_bound) & (df[column] <= upper_bound)]\n",
    "\n",
    "# Fill NaN\n",
    "def fill_nan_values(df, column, ratio_column):\n",
    "    return df[column].fillna(df['Views'] * ratio_column).astype(int)\n",
    "\n",
    "# Decreasing gap between data\n",
    "def normalize_columns(df, columns):\n",
    "    for col in columns:\n",
    "        df[f'Norm{col}'] = (df[col] ** (1/2)).astype(int) / (df[col] ** (1/2)).astype(int).max()\n",
    "    return df\n",
    "\n",
    "# TagScore & Channel Score calculation\n",
    "def calculate_scores(df):\n",
    "    df['TagScore'] = (df['NormViews'] * 0.6) + (df['NormEngagement'] * 0.2) + (df['NormTrend Date'] * 0.2)\n",
    "    df['Channel Score'] = (df['NormChannel Total View'] * 0.7) + (df['NormChannel Subscribers'] * 0.3)\n",
    "    df['Total Score'] = (df['TagScore'] * 0.7) + (df['Channel Score'] * 0.3)\n",
    "    return df\n",
    "\n",
    "# Creating calculated data table\n",
    "def process_data(df):\n",
    "    df = clean_data(df)\n",
    "\n",
    "    # Remove outliers from likes & comments\n",
    "    df_clean_likes = remove_outliers(df.dropna(subset=['Likes']), 'Likes')\n",
    "    df_clean_comments = remove_outliers(df.dropna(subset=['Comments']), 'Comments')\n",
    "\n",
    "    # fill NaN value by like & comment to view ratio\n",
    "    like_to_view_ratio = df_clean_likes['Likes'].sum() / df_clean_likes['Views'].sum()\n",
    "    comment_to_view_ratio = df_clean_comments['Comments'].sum() / df_clean_comments['Views'].sum()\n",
    "    df.loc[:, 'Likes'] = fill_nan_values(df, 'Likes', like_to_view_ratio)\n",
    "    df.loc[:, 'Comments'] = fill_nan_values(df, 'Comments', comment_to_view_ratio)\n",
    "    df.loc[:, 'Engagement'] = (df['Likes'] + df['Comments']) / df['Views']\n",
    "    df.loc[:, 'NormTrend Date'] = df['Trend Date'] / df['Trend Date'].max()\n",
    "    df.loc[:, 'NormEngagement'] = df['Engagement'] / df['Engagement'].max()\n",
    "\n",
    "    # Decrease big values\n",
    "    columns_to_transform = ['Views', 'Likes', 'Comments', 'Channel Total View', 'Channel Subscribers']\n",
    "    df = normalize_columns(df, columns_to_transform)\n",
    "\n",
    "    # TagScore / Channel Score calculation\n",
    "    df = calculate_scores(df)\n",
    "\n",
    "    return df\n"
   ]
  },
  {
   "cell_type": "code",
   "execution_count": null,
   "metadata": {},
   "outputs": [],
   "source": [
    "krcsv = load_and_clean_csv(\"kr2024(7-10).csv\")\n",
    "jpcsv = load_and_clean_csv(\"jp2024(7-10).csv\")\n",
    "\n",
    "krcsv = process_data(krcsv)\n",
    "jpcsv = process_data(jpcsv)"
   ]
  },
  {
   "cell_type": "markdown",
   "metadata": {},
   "source": [
    "<center>\n",
    "<span style=\"font-size: 26px;\">Function for database</span>\n",
    "</center>"
   ]
  },
  {
   "cell_type": "code",
   "execution_count": 1,
   "metadata": {},
   "outputs": [],
   "source": [
    "# Category table\n",
    "def create_category_table(df, country_id, start_id):\n",
    "    category_table = []\n",
    "    for category_id, category in enumerate(df['Category'].unique(), start=start_id):\n",
    "        category_table.append({\n",
    "            'Country_id': country_id,\n",
    "            'Category': category,\n",
    "            'Category_id': category_id\n",
    "        })\n",
    "    return pd.DataFrame(category_table)\n",
    "\n",
    "\n",
    "# Video information table\n",
    "def create_video_info_table(df, category_table):\n",
    "    merged_df = pd.merge(df, category_table, on='Category', how='left')\n",
    "    return merged_df[['Title', 'Category_id', 'Views', 'Trend Date', 'Channel Title','TagScore']].sort_values(by='Views').reset_index(drop=True)\n",
    "\n",
    "# Tag information table\n",
    "def create_tag_table(df,categorytable):\n",
    "    # Number of each tags\n",
    "    tag_count = Counter()\n",
    "    tag_category = defaultdict(list)\n",
    "    for tags, category in zip(df['Tags'], df['Category']):\n",
    "        for tag in tags.split(', '):\n",
    "            if tag:\n",
    "                tag_count[tag] += 1\n",
    "                tag_category[tag].append(category)\n",
    "\n",
    "    most_frequent_categories = {tag: Counter(categories).most_common(1)[0][0] for tag, categories in tag_category.items()}\n",
    "\n",
    "    # Create tag table\n",
    "    tag_table = pd.DataFrame({\n",
    "        'Tag': list(tag_count.keys()),\n",
    "        'Count': list(tag_count.values()),\n",
    "        'Category': [most_frequent_categories[tag] for tag in tag_count.keys()]\n",
    "    })\n",
    "    tag_table = pd.merge(tag_table,categorytable,on='Category',how='left')\n",
    "\n",
    "    # Calculate tag score\n",
    "    tag_scores = defaultdict(float)\n",
    "    for tags, total_score in zip(df['Tags'], df['Total Score']):\n",
    "        for tag in tags.split(', '):\n",
    "            if tag:\n",
    "                tag_scores[tag] += total_score\n",
    "\n",
    "    tag_scores_df = pd.DataFrame.from_dict(tag_scores, orient='index', columns=['Score']).reset_index()\n",
    "    tag_scores_df.rename(columns={'index': 'Tag'}, inplace=True)\n",
    "\n",
    "    # Final tag table\n",
    "    tag_table_final = pd.merge(tag_table, tag_scores_df, on='Tag', how='left').sort_values(by='Score', ascending=False).reset_index(drop=True)\n",
    "    tag_table_final['Score'] = tag_table_final['Score'] ** (1/2)\n",
    "    return tag_table_final[['Tag','Category_id','Count','Score']]\n"
   ]
  },
  {
   "cell_type": "code",
   "execution_count": null,
   "metadata": {},
   "outputs": [],
   "source": [
    "# Country information table\n",
    "c_info = {'Country': ['KR', 'JP'], 'Country_id': [1, 2]}\n",
    "country_df = pd.DataFrame(data=c_info)\n",
    "\n",
    "kr_category_table = create_category_table(krcsv, 1, 101)\n",
    "jp_category_table = create_category_table(jpcsv, 2, 201)\n",
    "\n",
    "kr_category_merge2 = create_video_info_table(krcsv, kr_category_table)\n",
    "jp_category_merge2 = create_video_info_table(jpcsv, jp_category_table)\n",
    "\n",
    "kr_tag_table_final = create_tag_table(krcsv,kr_category_table)\n",
    "jp_tag_table_final = create_tag_table(jpcsv,jp_category_table)"
   ]
  }
 ],
 "metadata": {
  "kernelspec": {
   "display_name": "Python 3",
   "language": "python",
   "name": "python3"
  },
  "language_info": {
   "codemirror_mode": {
    "name": "ipython",
    "version": 3
   },
   "file_extension": ".py",
   "mimetype": "text/x-python",
   "name": "python",
   "nbconvert_exporter": "python",
   "pygments_lexer": "ipython3",
   "version": "3.12.2"
  }
 },
 "nbformat": 4,
 "nbformat_minor": 2
}
